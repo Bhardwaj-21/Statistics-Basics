{
  "nbformat": 4,
  "nbformat_minor": 0,
  "metadata": {
    "colab": {
      "provenance": []
    },
    "kernelspec": {
      "name": "python3",
      "display_name": "Python 3"
    },
    "language_info": {
      "name": "python"
    }
  },
  "cells": [
    {
      "cell_type": "markdown",
      "source": [
        "Statistics Basics\n",
        "\n",
        "1. What is statistics, and why is it important?\n",
        "\n",
        "-> Statistics is the branch of mathematics that involves the collection, analysis, interpretation, presentation, and organization of data.\n",
        "\n",
        "Why is it Important?\n",
        "\n",
        "->Statistics helps in making informed decisions by providing quantitative evidence, identifying trends, measuring performance, and predicting future outcomes in various fields such as business, finance, economics, and research.\n",
        "\n",
        "2. What are the two main types of statistics?\n",
        "\n",
        "->The two main types of statistics are:\n",
        "\n",
        "- Descriptive Statistics: Involves summarizing and organizing data using measures like mean, median, mode, and standard deviation.\n",
        "\n",
        "- Inferential Statistics: Involves making predictions or inferences about a population based on a sample of data using techniques like hypothesis testing and regression analysis.\n",
        "\n",
        "3. What are descriptive statistics?\n",
        "\n",
        "-> Descriptive Statistics refer to statistical methods that summarize and organize data in a meaningful way. They include measures such as:\n",
        "\n",
        "- Measures of Central Tendency: Mean, Median, Mode\n",
        "\n",
        "- Measures of Dispersion: Range, Variance, Standard Deviation\n",
        "\n",
        "- Measures of Position: Percentiles, Quartiles\n",
        "\n",
        "- Data Presentation: Tables, Graphs, Charts\n",
        "\n",
        "These techniques provide a quick overview of data without making conclusions beyond the data itself.\n",
        "\n",
        "4. What is inferential statistics?\n",
        "\n",
        "-> Inferential Statistics involve using a sample of data to draw conclusions or make predictions about a larger population. It includes methods such as:\n",
        "\n",
        "Hypothesis Testing: Determining the probability that a hypothesis is true based on sample data.\n",
        "\n",
        "Confidence Intervals: Estimating the range within which a population parameter is likely to fall.\n",
        "\n",
        "Regression Analysis: Examining relationships between variables.\n",
        "\n",
        "ANOVA (Analysis of Variance): Comparing means across multiple groups.\n",
        "\n",
        "Inferential statistics help in making data-driven decisions and generalizing findings from a sample to a broader population.\n",
        "\n",
        "5. What is sampling in statistics?\n",
        "\n",
        "->Sampling in statistics is the process of selecting a subset of individuals, items, or data points (a sample) from a larger group (a population) to make inferences about the entire population. It is used to collect data efficiently and cost-effectively while ensuring that the sample is representative of the population. Common sampling methods include:\n",
        "\n",
        "- Random Sampling: Every member has an equal chance of being selected.\n",
        "\n",
        "- Stratified Sampling: The population is divided into subgroups, and samples are taken from each subgroup.\n",
        "\n",
        "- Systematic Sampling: Selecting every nth item from a list.\n",
        "\n",
        "- Cluster Sampling: Dividing the population into clusters and randomly selecting entire clusters.\n",
        "\n",
        "6. What are the different types of sampling methods?\n",
        "\n",
        "-> The different types of sampling methods are:\n",
        "\n",
        "- Probability Sampling: Each member of the population has a known chance of being selected.\n",
        "\n",
        "- Simple Random Sampling: Every member has an equal chance of selection.\n",
        "\n",
        "- Stratified Sampling: Population is divided into subgroups, and samples are taken from each subgroup.\n",
        "\n",
        "- Systematic Sampling: Selecting every nth member from a list.\n",
        "\n",
        "- Cluster Sampling: Dividing the population into clusters and randomly selecting entire clusters.\n",
        "\n",
        "- Multistage Sampling: Combining multiple sampling methods in stages.\n",
        "\n",
        "Non-Probability Sampling: Not every member has a known or equal chance of selection.\n",
        "\n",
        "- Convenience Sampling: Selecting members based on ease of access.\n",
        "\n",
        "- Judgmental/Purposive Sampling: Selecting based on researcher’s judgment.\n",
        "\n",
        "- Quota Sampling: Ensuring specific subgroups are represented.\n",
        "\n",
        "- Snowball Sampling: Using initial participants to recruit further participants.\n",
        "\n",
        "7. What is the difference between random and non-random sampling?\n",
        "\n",
        "-> Difference Between Random and Non-Random Sampling:\n",
        "\n",
        "- Definition:\n",
        "\n",
        "Random Sampling: Every member has a known, equal chance of being selected.\n",
        "\n",
        "Non-Random Sampling: Selection is based on convenience, judgment, or specific criteria.\n",
        "\n",
        "- Types:\n",
        "\n",
        "Random Sampling: Simple Random, Stratified, Systematic, Cluster\n",
        "\n",
        "Non-Random Sampling: Convenience, Judgmental, Quota, Snowball\n",
        "\n",
        "- Bias:\n",
        "\n",
        "Random Sampling: Less prone to bias.\n",
        "\n",
        "Non-Random Sampling: Higher risk of bias.\n",
        "\n",
        "- Accuracy:\n",
        "\n",
        "Random Sampling: More accurate and reliable for generalization.\n",
        "\n",
        "Non-Random Sampling: Less accurate and may not represent the population.\n",
        "\n",
        "- Cost & Time:\n",
        "\n",
        "Random Sampling: More time-consuming and costly.\n",
        "\n",
        "Non-Random Sampling: Faster and more cost-effective.\n",
        "\n",
        "- Application:\n",
        "\n",
        "Random Sampling: Used in large-scale surveys and studies.\n",
        "\n",
        "Non-Random Sampling: Used in exploratory research and pilot studies.\n",
        "\n",
        "8. Define and give examples of qualitative and quantitative data?\n",
        "\n",
        "-> Qualitative Data:\n",
        "\n",
        "Definition: Non-numeric data that describes qualities or characteristics. It is used to categorize or describe attributes and can be observed but not measured.\n",
        "\n",
        "Examples:\n",
        "\n",
        "Color of a car (e.g., red, blue, green)\n",
        "\n",
        "Type of fruit (e.g., apple, banana, orange)\n",
        "\n",
        "Gender (e.g., male, female, non-binary)\n",
        "\n",
        "Brand names (e.g., Nike, Adidas)\n",
        "\n",
        "Quantitative Data:\n",
        "\n",
        "Definition: Numeric data that can be measured and expressed in numbers. It can be used for mathematical calculations and statistical analysis.\n",
        "\n",
        "Examples:\n",
        "\n",
        "Height (e.g., 5’8”)\n",
        "\n",
        "Age (e.g., 25 years)\n",
        "\n",
        "Temperature (e.g., 30°C)\n",
        "\n",
        "Income (e.g., $50,000)\n",
        "\n",
        "9. What are the different types of data in statistics?\n",
        "\n",
        "-> Qualitative Data (Categorical Data):\n",
        "\n",
        "Describes characteristics or qualities.\n",
        "\n",
        "Cannot be measured numerically.\n",
        "\n",
        "Examples: Gender, colors, types of animals.\n",
        "\n",
        "- Quantitative Data (Numerical Data):\n",
        "\n",
        "Involves numbers and measurable quantities.\n",
        "\n",
        "Can be further divided into:\n",
        "\n",
        "Discrete Data: Countable, finite numbers.\n",
        "\n",
        "Examples: Number of students, number of cars.\n",
        "\n",
        "Continuous Data: Infinite values within a range, measurable.\n",
        "\n",
        "Examples: Height, weight, temperature.\n",
        "\n",
        "- Ordinal Data:\n",
        "\n",
        "Data that can be ordered or ranked but the intervals between ranks are not uniform.\n",
        "\n",
        "Examples: Education level (High school, Bachelor’s, Master’s), customer satisfaction (Low, Medium, High).\n",
        "\n",
        "- Nominal Data:\n",
        "\n",
        "Data that represents categories with no inherent order.\n",
        "\n",
        "Examples: Blood type, marital status, nationality.\n",
        "\n",
        "- Interval Data:\n",
        "\n",
        "Data with meaningful distances between values but no true zero point.\n",
        "\n",
        "Examples: Temperature (in Celsius or Fahrenheit), IQ scores.\n",
        "\n",
        "- Ratio Data:\n",
        "\n",
        "Data with a true zero point and meaningful intervals, allowing for comparison of ratios.\n",
        "\n",
        "Examples: Height, weight, age, income.\n",
        "\n",
        "10. Explain nominal, ordinal, interval, and ratio levels of measurement.\n",
        "\n",
        "-> Nominal:\n",
        "\n",
        "Categories with no order or ranking.\n",
        "\n",
        "Examples: Gender, Eye color, Nationality.\n",
        "\n",
        "- Ordinal:\n",
        "\n",
        "Ordered categories, but intervals are not equal.\n",
        "\n",
        "Examples: Education level, Customer satisfaction.\n",
        "\n",
        "- Interval:\n",
        "\n",
        "Ordered data with equal intervals, but no true zero.\n",
        "\n",
        "Examples: Temperature (°C, °F), IQ scores.\n",
        "\n",
        "- Ratio:\n",
        "\n",
        "Ordered data with equal intervals and a true zero.\n",
        "\n",
        "Examples: Weight, Height, Income.\n",
        "\n",
        "11. What is the measure of central tendency?\n",
        "\n",
        "-> Measures of Central Tendency are statistical values that represent the center or typical value of a dataset. They help summarize a set of data by identifying a single value that is most representative. The three main measures are:\n",
        "\n",
        "Mean: The average of all data points.\n",
        "\n",
        "Formula: (Sum of all values) / (Number of values)\n",
        "\n",
        "Median: The middle value when data is arranged in ascending or descending order.\n",
        "\n",
        "If there’s an even number of values, the median is the average of the two middle values.\n",
        "\n",
        "Mode: The value that occurs most frequently in a dataset.\n",
        "\n",
        "Each measure is useful depending on the data distribution and context.\n",
        "\n",
        "12. Define mean, median, and mode\n",
        "\n",
        "-> Mean:\n",
        "\n",
        "The average of all data points.\n",
        "\n",
        "\n",
        "Median:\n",
        "\n",
        "The middle value when the data is arranged in ascending or descending order.\n",
        "\n",
        "If there’s an even number of values, it’s the average of the two middle values.\n",
        "\n",
        "Mode:\n",
        "\n",
        "The value that occurs most frequently in the dataset.\n",
        "\n",
        "A dataset may have one mode (unimodal), more than one mode (bimodal or multimodal), or no mode at all.\n",
        "\n",
        "13. What is the significance of the measure of central tendency?\n",
        "\n",
        "-> The significance of measures of central tendency lies in their ability to summarize and represent a dataset with a single value that reflects the central or typical position. Here’s why they are important:\n",
        "\n",
        "Simplifies Data: They provide a simple summary of a large set of data, making it easier to understand.\n",
        "\n",
        "Comparison: They help in comparing different datasets or groups.\n",
        "\n",
        "Representation: They offer a representative value, helping to identify the most common or average characteristics in the data.\n",
        "\n",
        "Decision Making: Used in business, economics, and research for informed decision-making by identifying trends or patterns.\n",
        "\n",
        "Basis for Further Analysis: Measures like the mean are used as the foundation for more complex statistical analyses, such as regression and hypothesis testing.\n",
        "\n",
        "14. What is variance, and how is it calculated?\n",
        "\n",
        "-> Variance is a measure of how much the data points in a dataset differ from the mean. It shows the degree of spread or dispersion in the data.\n",
        "\n",
        "Steps to calculate variance:\n",
        "\n",
        "Find the mean of the dataset.\n",
        "\n",
        "Subtract the mean from each data point and square the result.\n",
        "\n",
        "For population variance, divide the sum of squared differences by the total number of data points. For sample variance, divide by\n",
        "𝑛\n",
        "−\n",
        "1\n",
        "n−1.\n",
        "\n",
        "15. What is standard deviation, and why is it important?\n",
        "\n",
        "-> Standard Deviation is a measure of how spread out the values in a dataset are around the mean. It is the square root of the variance and provides a clearer understanding of data dispersion in the same unit as the data itself.\n",
        "\n",
        "-> Importance of Standard Deviation:\n",
        "Measures Dispersion: It shows how spread out the data is, helping to understand variability.\n",
        "\n",
        "Consistency: A low standard deviation means data points are close to the mean, indicating consistency. A high standard deviation shows more variability.\n",
        "\n",
        "Comparison: It allows for comparison of variability between different datasets.\n",
        "\n",
        "Risk Assessment: In fields like finance, it helps assess the risk or volatility of an investment.\n",
        "\n",
        "16. Define and explain the term range in statistics.\n",
        "\n",
        "->Range in statistics is the difference between the highest and lowest values in a dataset. It gives a simple measure of the spread or dispersion of the data.\n",
        "\n",
        "Formula:\n",
        "\n",
        "Range\n",
        "=\n",
        "Maximum Value\n",
        "−\n",
        "Minimum Value\n",
        "Range=Maximum Value−Minimum Value\n",
        "Explanation:\n",
        "Maximum Value: The largest data point in the dataset.\n",
        "\n",
        "Minimum Value: The smallest data point in the dataset.\n",
        "\n",
        "Significance: The range gives an overview of how spread out the data is, but it is sensitive to extreme values (outliers).\n",
        "\n",
        "17. What is the difference between variance and standard deviation?\n",
        "\n",
        "-> Difference Between Variance and Standard Deviation:\n",
        "\n",
        "Definition:\n",
        "\n",
        "Variance measures the average squared deviation from the mean.\n",
        "\n",
        "Standard Deviation is the square root of variance, representing spread in the same units as the data.\n",
        "\n",
        "Units:\n",
        "\n",
        "Variance has squared units.\n",
        "\n",
        "Standard Deviation has the same units as the data.\n",
        "\n",
        "Interpretation:\n",
        "\n",
        "Variance is harder to interpret directly.\n",
        "\n",
        "Standard Deviation is more intuitive and easier to understand.\n",
        "\n",
        "Usage:\n",
        "\n",
        "Variance used in calculations and models.\n",
        "\n",
        "Standard Deviation used for practical understanding of data spread.\n",
        "\n",
        "18. What is skewness in a dataset?\n",
        "\n",
        "-> Skewness in a dataset refers to the degree of asymmetry or lopsidedness of the distribution. It indicates whether the data is skewed towards the left or right of the mean.\n",
        "\n",
        "Positive Skew (Right Skew):\n",
        "\n",
        "The right tail is longer or fatter.\n",
        "\n",
        "Most data points are concentrated on the left, and the mean is greater than the median.\n",
        "\n",
        "Example: Income distribution in a population.\n",
        "\n",
        "Negative Skew (Left Skew):\n",
        "\n",
        "The left tail is longer or fatter.\n",
        "\n",
        "Most data points are concentrated on the right, and the mean is less than the median.\n",
        "\n",
        "Example: Age at retirement.\n",
        "\n",
        "Zero Skew (Symmetrical):\n",
        "\n",
        "The distribution is symmetrical, and the mean and median are equal.\n",
        "\n",
        "Example: Normal distribution.\n",
        "\n",
        "Significance:\n",
        "Skewness helps to identify the shape of the data distribution and is crucial for selecting the appropriate statistical methods.\n",
        "\n",
        "19. What does it mean if a dataset is positively or negatively skewed?\n",
        "\n",
        "-> When a dataset is skewed, it means that the distribution is not symmetrical, and the data tends to be concentrated towards one end of the range. Here's what positive and negative skewness indicate:\n",
        "\n",
        "Positively Skewed (Right Skewed):\n",
        "\n",
        "The right tail (larger values) is longer or fatter.\n",
        "\n",
        "Most data points are on the left side (smaller values).\n",
        "\n",
        "The mean is greater than the median.\n",
        "\n",
        "Example: Income distribution (a few people earn much higher than most).\n",
        "\n",
        "Negatively Skewed (Left Skewed):\n",
        "\n",
        "The left tail (smaller values) is longer or fatter.\n",
        "\n",
        "Most data points are on the right side (larger values).\n",
        "\n",
        "The mean is less than the median.\n",
        "\n",
        "Example: Age of retirement (most people retire at similar ages, but a few retire much earlier).\n",
        "\n",
        "In summary:\n",
        "\n",
        "Positive skew: Right tail > left tail.\n",
        "\n",
        "Negative skew: Left tail > right tail.\n",
        "\n",
        "20. Define and explain kurtosis\n",
        "\n",
        "-> Kurtosis measures the \"tailedness\" or sharpness of a dataset's distribution.\n",
        "\n",
        "Leptokurtic (Positive Kurtosis):\n",
        "\n",
        "Sharp peak, heavy tails, more outliers.\n",
        "\n",
        "Example: Financial returns in volatile markets.\n",
        "\n",
        "Mesokurtic (Normal Kurtosis):\n",
        "\n",
        "Moderate peak, normal tails, similar to a normal distribution.\n",
        "\n",
        "Example: Normal distribution.\n",
        "\n",
        "Platykurtic (Negative Kurtosis):\n",
        "\n",
        "Flat peak, light tails, fewer outliers.\n",
        "\n",
        "Example: Uniform distribution.\n",
        "\n",
        "Significance:\n",
        "\n",
        "High kurtosis = more outliers.\n",
        "\n",
        "Low kurtosis = fewer outliers.\n",
        "\n",
        "21. What is the purpose of covariance?\n",
        "\n",
        "-> Covariance measures the relationship between two variables and shows if they move in the same or opposite directions.\n",
        "\n",
        "Positive Covariance: Both variables increase or decrease together.\n",
        "\n",
        "Negative Covariance: One variable increases while the other decreases.\n",
        "\n",
        "It helps in risk management and portfolio diversification by analyzing how two assets move together.\n",
        "\n",
        "22. What does correlation measure in statistics?\n",
        "\n",
        "-> Correlation measures the strength and direction of the linear relationship between two variables.\n",
        "\n",
        "Positive Correlation: Both variables move in the same direction (e.g., as one increases, the other increases).\n",
        "\n",
        "Negative Correlation: The variables move in opposite directions (e.g., as one increases, the other decreases).\n",
        "\n",
        "No Correlation: No predictable relationship between the variables.\n",
        "\n",
        "Range:\n",
        "\n",
        "+1: Perfect positive correlation\n",
        "\n",
        "-1: Perfect negative correlation\n",
        "\n",
        "0: No correlation\n",
        "\n",
        "23. What is the difference between covariance and correlation\n",
        "\n",
        "->Difference Between Covariance and Correlation:\n",
        "\n",
        "Scale:\n",
        "\n",
        "Covariance: The value depends on the scale of the variables, making it harder to compare across datasets with different units.\n",
        "\n",
        "Correlation: The value is standardized between -1 and +1, making it easier to compare relationships between different datasets.\n",
        "\n",
        "Interpretation:\n",
        "\n",
        "Covariance: Indicates the direction of the relationship (positive or negative) but doesn't give the strength of the relationship clearly.\n",
        "\n",
        "Correlation: Indicates both the direction and the strength of the relationship, with +1 being a perfect positive relationship, -1 a perfect negative relationship, and 0 indicating no relationship.\n",
        "\n",
        "24. What are some real-world applications of statistics?\n",
        "\n",
        "-> Here are some real-world applications of statistics:\n",
        "\n",
        "Healthcare:\n",
        "\n",
        "Analyzing patient data to determine trends, treatment effectiveness, and disease outbreaks.\n",
        "\n",
        "Example: Medical research uses statistical tests to evaluate new treatments and drugs.\n",
        "\n",
        "Finance:\n",
        "\n",
        "Assessing risks, predicting stock market trends, and making investment decisions.\n",
        "\n",
        "Example: Portfolio optimization and risk management rely on statistical methods.\n",
        "\n",
        "Marketing:\n",
        "\n",
        "Analyzing consumer behavior, market trends, and campaign effectiveness.\n",
        "\n",
        "Example: Companies use surveys and A/B testing to improve products and services.\n",
        "\n",
        "Sports:\n",
        "\n",
        "Performance analysis, team strategy optimization, and player statistics.\n",
        "\n",
        "Example: In baseball, statistical analysis is used to evaluate player performance (Sabermetrics).\n",
        "\n",
        "Manufacturing:\n",
        "\n",
        "Quality control, production efficiency, and inventory management.\n",
        "\n",
        "Example: Statistical process control (SPC) ensures consistent product quality.\n",
        "\n",
        "Social Sciences:\n",
        "\n",
        "Understanding societal trends, behavior patterns, and conducting surveys.\n",
        "\n",
        "Example: Polls and surveys in politics, economics, and psychology use statistical techniques.\n",
        "\n",
        "Weather Forecasting:\n",
        "\n",
        "Predicting weather patterns and climate trends using statistical models.\n",
        "\n",
        "Example: Meteorologists use past data to forecast future weather conditions.\n",
        "\n",
        "E-commerce:\n",
        "\n",
        "Analyzing customer data to optimize pricing, recommend products, and improve user experience.\n",
        "\n",
        "Example: Amazon uses statistics for product recommendations and dynamic pricing.\n",
        "\n",
        "\n",
        "\n",
        "\n",
        "\n",
        "\n",
        "\n",
        "\n",
        "\n",
        "\n",
        "\n",
        "\n",
        "\n",
        "\n",
        "\n",
        "\n",
        "\n",
        "\n",
        "\n",
        "\n",
        "\n",
        "\n",
        "\n",
        "\n",
        "\n",
        "\n",
        "\n",
        "\n",
        "\n",
        "\n",
        "\n",
        "\n",
        "\n",
        "\n",
        "\n",
        "\n",
        "\n",
        "\n"
      ],
      "metadata": {
        "id": "DmAuddkwXdDr"
      }
    },
    {
      "cell_type": "markdown",
      "source": [
        "1. How do you calculate the mean, median, and mode of a dataset?"
      ],
      "metadata": {
        "id": "U72N0Qj8diyS"
      }
    },
    {
      "cell_type": "code",
      "source": [
        "import numpy as np\n",
        "from scipy import stats\n",
        "\n",
        "# Sample dataset\n",
        "data = [12, 15, 12, 10, 15, 18, 20, 15, 10]\n",
        "\n",
        "# Mean\n",
        "mean = np.mean(data)\n",
        "print(f\"Mean: {mean}\")\n",
        "\n",
        "# Median\n",
        "median = np.median(data)\n",
        "print(f\"Median: {median}\")\n",
        "\n",
        "# Mode\n",
        "mode_result = stats.mode(data)\n",
        "\n",
        "# Check if mode_result is scalar or array and handle accordingly\n",
        "if isinstance(mode_result.mode, np.ndarray):\n",
        "    mode_value = mode_result.mode[0]  # Mode value\n",
        "    mode_count = mode_result.count[0]  # Count of mode\n",
        "else:\n",
        "    mode_value = mode_result.mode  # Mode value\n",
        "    mode_count = mode_result.count  # Count of mode\n",
        "\n",
        "print(f\"Mode: {mode_value} with count: {mode_count}\")"
      ],
      "metadata": {
        "colab": {
          "base_uri": "https://localhost:8080/"
        },
        "id": "Q-qv2qiWXfqg",
        "outputId": "e1b6ba10-4ba9-46b2-8005-5d6151944946"
      },
      "execution_count": 6,
      "outputs": [
        {
          "output_type": "stream",
          "name": "stdout",
          "text": [
            "Mean: 14.11111111111111\n",
            "Median: 15.0\n",
            "Mode: 15 with count: 3\n"
          ]
        }
      ]
    },
    {
      "cell_type": "markdown",
      "source": [
        "2. Write a Python program to compute the variance and standard deviation of a dataset?"
      ],
      "metadata": {
        "id": "v0HqCiNMerlf"
      }
    },
    {
      "cell_type": "code",
      "source": [
        "import numpy as np\n",
        "\n",
        "# Sample dataset\n",
        "data = [12, 15, 12, 10, 15, 18, 20, 15, 10]\n",
        "\n",
        "# Variance\n",
        "variance = np.var(data)\n",
        "print(f\"Variance: {variance}\")\n",
        "\n",
        "# Standard Deviation\n",
        "std_deviation = np.std(data)\n",
        "print(f\"Standard Deviation: {std_deviation}\")"
      ],
      "metadata": {
        "colab": {
          "base_uri": "https://localhost:8080/"
        },
        "id": "KgenoeVme3ZY",
        "outputId": "23b7f7c0-116c-4321-f48e-5591fd68d6c0"
      },
      "execution_count": 7,
      "outputs": [
        {
          "output_type": "stream",
          "name": "stdout",
          "text": [
            "Variance: 10.543209876543209\n",
            "Standard Deviation: 3.2470309324894346\n"
          ]
        }
      ]
    },
    {
      "cell_type": "markdown",
      "source": [
        "3. Create a dataset and classify it into nominal, ordinal, interval, and ratio types"
      ],
      "metadata": {
        "id": "-lA_XzbUfDvR"
      }
    },
    {
      "cell_type": "code",
      "source": [
        "import pandas as pd\n",
        "\n",
        "# Create a dataset\n",
        "data = {\n",
        "    'Student': ['Alice', 'Bob', 'Charlie', 'David'],\n",
        "    'Grade': ['A', 'B', 'A', 'C'],\n",
        "    'Temperature (°C)': [25, 30, 28, 22],\n",
        "    'Height (cm)': [160, 175, 180, 170]\n",
        "}\n",
        "\n",
        "# Create a DataFrame\n",
        "df = pd.DataFrame(data)\n",
        "\n",
        "# Print the dataset\n",
        "print(\"Dataset:\")\n",
        "print(df)\n",
        "\n",
        "# Classifying the data\n",
        "classification = {\n",
        "    'Student': 'Nominal',\n",
        "    'Grade': 'Ordinal',\n",
        "    'Temperature (°C)': 'Interval',\n",
        "    'Height (cm)': 'Ratio'\n",
        "}\n",
        "\n",
        "# Print the classification of each column\n",
        "print(\"\\nClassification of each column:\")\n",
        "for column, level in classification.items():\n",
        "    print(f\"{column}: {level}\")"
      ],
      "metadata": {
        "colab": {
          "base_uri": "https://localhost:8080/"
        },
        "id": "B1vqCnikfGNn",
        "outputId": "bafb81e0-c76d-4832-af8c-dd05df5f81be"
      },
      "execution_count": 8,
      "outputs": [
        {
          "output_type": "stream",
          "name": "stdout",
          "text": [
            "Dataset:\n",
            "   Student Grade  Temperature (°C)  Height (cm)\n",
            "0    Alice     A                25          160\n",
            "1      Bob     B                30          175\n",
            "2  Charlie     A                28          180\n",
            "3    David     C                22          170\n",
            "\n",
            "Classification of each column:\n",
            "Student: Nominal\n",
            "Grade: Ordinal\n",
            "Temperature (°C): Interval\n",
            "Height (cm): Ratio\n"
          ]
        }
      ]
    },
    {
      "cell_type": "markdown",
      "source": [
        "4.  Implement sampling techniques like random sampling and stratified sampling"
      ],
      "metadata": {
        "id": "mHjHye00fab2"
      }
    },
    {
      "cell_type": "code",
      "source": [
        "import pandas as pd\n",
        "import numpy as np\n",
        "from sklearn.model_selection import train_test_split\n",
        "\n",
        "# Create a sample dataset\n",
        "data = {\n",
        "    'Age': [25, 32, 45, 50, 23, 43, 36, 30, 60, 29],\n",
        "    'Income': [25000, 45000, 60000, 55000, 30000, 70000, 45000, 50000, 75000, 40000],\n",
        "    'Gender': ['M', 'F', 'M', 'M', 'F', 'M', 'M', 'F', 'M', 'F']\n",
        "}\n",
        "\n",
        "# Create a DataFrame\n",
        "df = pd.DataFrame(data)\n",
        "\n",
        "# **Random Sampling**\n",
        "random_sample = df.sample(n=5, random_state=1)  # Randomly select 5 rows\n",
        "print(\"Random Sample:\\n\", random_sample)\n",
        "\n",
        "# **Stratified Sampling**\n",
        "# First, divide by the 'Gender' column and then randomly sample within each gender group\n",
        "# The stratified sampling will keep the proportion of male and female samples similar to the original dataset\n",
        "\n",
        "# Stratified Sampling using train_test_split\n",
        "stratified_sample_train, stratified_sample_test = train_test_split(df, test_size=0.5, stratify=df['Gender'], random_state=1)\n",
        "\n",
        "print(\"\\nStratified Sample:\\n\", stratified_sample_train)"
      ],
      "metadata": {
        "colab": {
          "base_uri": "https://localhost:8080/"
        },
        "id": "hjEGV7VEfe1m",
        "outputId": "d1924ae6-dd6c-4745-894f-8839d8eba654"
      },
      "execution_count": 9,
      "outputs": [
        {
          "output_type": "stream",
          "name": "stdout",
          "text": [
            "Random Sample:\n",
            "    Age  Income Gender\n",
            "2   45   60000      M\n",
            "9   29   40000      F\n",
            "6   36   45000      M\n",
            "4   23   30000      F\n",
            "0   25   25000      M\n",
            "\n",
            "Stratified Sample:\n",
            "    Age  Income Gender\n",
            "6   36   45000      M\n",
            "3   50   55000      M\n",
            "0   25   25000      M\n",
            "9   29   40000      F\n",
            "7   30   50000      F\n"
          ]
        }
      ]
    },
    {
      "cell_type": "markdown",
      "source": [
        "5. Write a Python function to calculate the range of a dataset"
      ],
      "metadata": {
        "id": "qnoPTKellAOf"
      }
    },
    {
      "cell_type": "code",
      "source": [
        "def calculate_range(data):\n",
        "    \"\"\"\n",
        "    Calculate the range of a dataset.\n",
        "\n",
        "    Parameters:\n",
        "    data (list): A list of numerical values.\n",
        "\n",
        "    Returns:\n",
        "    float: The range of the dataset.\n",
        "    \"\"\"\n",
        "    if len(data) == 0:\n",
        "        return \"Dataset is empty.\"\n",
        "\n",
        "    return max(data) - min(data)\n",
        "\n",
        "# Example usage:\n",
        "dataset = [12, 15, 10, 22, 18, 25, 17]\n",
        "print(\"Range of the dataset:\", calculate_range(dataset))"
      ],
      "metadata": {
        "colab": {
          "base_uri": "https://localhost:8080/"
        },
        "id": "EWYDlMDRlCSr",
        "outputId": "db830c93-0ef8-41de-968c-a1090d99be83"
      },
      "execution_count": 1,
      "outputs": [
        {
          "output_type": "stream",
          "name": "stdout",
          "text": [
            "Range of the dataset: 15\n"
          ]
        }
      ]
    },
    {
      "cell_type": "markdown",
      "source": [
        "6. Create a dataset and plot its histogram to visualize skewness"
      ],
      "metadata": {
        "id": "bAy6zBPAdi-i"
      }
    },
    {
      "cell_type": "code",
      "source": [
        "import numpy as np\n",
        "import matplotlib.pyplot as plt\n",
        "import seaborn as sns\n",
        "\n",
        "# Set the style for the plot\n",
        "sns.set(style=\"whitegrid\")\n",
        "\n",
        "# Create a dataset with positive skewness\n",
        "np.random.seed(0)\n",
        "data = np.random.gamma(2, 1.5, 1000)  # Gamma distribution for positive skew\n",
        "\n",
        "# Plot the histogram\n",
        "plt.figure(figsize=(10, 6))\n",
        "plt.hist(data, bins=30, color='skyblue', edgecolor='black', alpha=0.7)\n",
        "plt.title(\"Histogram to Visualize Skewness\")\n",
        "plt.xlabel(\"Value\")\n",
        "plt.ylabel(\"Frequency\")\n",
        "plt.axvline(np.mean(data), color='red', linestyle='dashed', linewidth=2, label=f\"Mean: {np.mean(data):.2f}\")\n",
        "plt.axvline(np.median(data), color='green', linestyle='dashed', linewidth=2, label=f\"Median: {np.median(data):.2f}\")\n",
        "plt.legend()\n",
        "plt.show()"
      ],
      "metadata": {
        "colab": {
          "base_uri": "https://localhost:8080/",
          "height": 573
        },
        "id": "BzUSSprkdk1N",
        "outputId": "799624a1-bb83-47e9-c8f3-a52485967b45"
      },
      "execution_count": 2,
      "outputs": [
        {
          "output_type": "display_data",
          "data": {
            "text/plain": [
              "<Figure size 1000x600 with 1 Axes>"
            ],
            "image/png": "[encoded data removed]"
          },
          "metadata": {}
        }
      ]
    },
    {
      "cell_type": "markdown",
      "source": [
        "7. Calculate skewness and kurtosis of a dataset using Python libraries"
      ],
      "metadata": {
        "id": "8ApJmR6JdyAM"
      }
    },
    {
      "cell_type": "code",
      "source": [
        "import numpy as np\n",
        "import pandas as pd\n",
        "from scipy.stats import skew, kurtosis\n",
        "\n",
        "# Create a dataset\n",
        "np.random.seed(0)\n",
        "data = np.random.gamma(2, 1.5, 1000)  # Positively skewed data\n",
        "\n",
        "# Calculate Skewness\n",
        "data_skewness = skew(data)\n",
        "print(f\"Skewness: {data_skewness}\")\n",
        "\n",
        "# Calculate Kurtosis\n",
        "data_kurtosis = kurtosis(data)\n",
        "print(f\"Kurtosis: {data_kurtosis}\")"
      ],
      "metadata": {
        "colab": {
          "base_uri": "https://localhost:8080/"
        },
        "id": "POTYm9kJd0N2",
        "outputId": "181eb606-f2bf-4738-e9bc-b608da41ca04"
      },
      "execution_count": 3,
      "outputs": [
        {
          "output_type": "stream",
          "name": "stdout",
          "text": [
            "Skewness: 1.3583322947923324\n",
            "Kurtosis: 2.407918080613012\n"
          ]
        }
      ]
    },
    {
      "cell_type": "markdown",
      "source": [
        "8. Generate a dataset and demonstrate positive and negative skewness"
      ],
      "metadata": {
        "id": "A5NWwYAad5c0"
      }
    },
    {
      "cell_type": "code",
      "source": [
        "import numpy as np\n",
        "import matplotlib.pyplot as plt\n",
        "import seaborn as sns\n",
        "from scipy.stats import skew\n",
        "\n",
        "# Set the style for the plots\n",
        "sns.set(style=\"whitegrid\")\n",
        "\n",
        "# Generate a dataset with Positive Skewness (Gamma Distribution)\n",
        "np.random.seed(0)\n",
        "data_pos_skew = np.random.gamma(2, 1.5, 1000)\n",
        "\n",
        "# Generate a dataset with Negative Skewness (Beta Distribution)\n",
        "data_neg_skew = np.random.beta(8, 2, 1000) * 20  # Scaling to match range\n",
        "\n",
        "# Plotting\n",
        "fig, axes = plt.subplots(1, 2, figsize=(14, 6))\n",
        "\n",
        "# Positive Skewness Plot\n",
        "axes[0].hist(data_pos_skew, bins=30, color='skyblue', edgecolor='black', alpha=0.7)\n",
        "axes[0].axvline(np.mean(data_pos_skew), color='red', linestyle='dashed', linewidth=2, label=f\"Skewness: {skew(data_pos_skew):.2f}\")\n",
        "axes[0].set_title(\"Positive Skewness\")\n",
        "axes[0].set_xlabel(\"Value\")\n",
        "axes[0].set_ylabel(\"Frequency\")\n",
        "axes[0].legend()\n",
        "\n",
        "# Negative Skewness Plot\n",
        "axes[1].hist(data_neg_skew, bins=30, color='lightgreen', edgecolor='black', alpha=0.7)\n",
        "axes[1].axvline(np.mean(data_neg_skew), color='red', linestyle='dashed', linewidth=2, label=f\"Skewness: {skew(data_neg_skew):.2f}\")\n",
        "axes[1].set_title(\"Negative Skewness\")\n",
        "axes[1].set_xlabel(\"Value\")\n",
        "axes[1].legend()\n",
        "\n",
        "plt.tight_layout()\n",
        "plt.show()"
      ],
      "metadata": {
        "colab": {
          "base_uri": "https://localhost:8080/",
          "height": 601
        },
        "id": "FwPBFLsveEZi",
        "outputId": "399e930f-2fda-41c7-f7d9-e343ea87a115"
      },
      "execution_count": 4,
      "outputs": [
        {
          "output_type": "display_data",
          "data": {
            "text/plain": [
              "<Figure size 1400x600 with 2 Axes>"
            ],
            "image/png": "[encoded data removed]"
          },
          "metadata": {}
        }
      ]
    },
    {
      "cell_type": "markdown",
      "source": [
        "9. Write a Python script to calculate covariance between two datasets"
      ],
      "metadata": {
        "id": "-hxKbEZ9eHNG"
      }
    },
    {
      "cell_type": "code",
      "source": [
        "import numpy as np\n",
        "import pandas as pd\n",
        "\n",
        "# Sample data\n",
        "data1 = [10, 15, 12, 18, 20, 22, 24, 30]\n",
        "data2 = [8, 12, 10, 20, 18, 25, 28, 35]\n",
        "\n",
        "# Using NumPy\n",
        "cov_matrix = np.cov(data1, data2)\n",
        "covariance_numpy = cov_matrix[0, 1]  # Extract the covariance value\n",
        "print(f\"Covariance using NumPy: {covariance_numpy}\")\n",
        "\n",
        "# Using Pandas\n",
        "df = pd.DataFrame({'Data1': data1, 'Data2': data2})\n",
        "covariance_pandas = df.cov().iloc[0, 1]\n",
        "print(f\"Covariance using Pandas: {covariance_pandas}\")"
      ],
      "metadata": {
        "colab": {
          "base_uri": "https://localhost:8080/"
        },
        "id": "y-KhWEo6eLA-",
        "outputId": "0723f3af-7fe1-4d22-8b9f-7f9e1f5de909"
      },
      "execution_count": 5,
      "outputs": [
        {
          "output_type": "stream",
          "name": "stdout",
          "text": [
            "Covariance using NumPy: 61.07142857142857\n",
            "Covariance using Pandas: 61.07142857142857\n"
          ]
        }
      ]
    },
    {
      "cell_type": "markdown",
      "source": [
        "10. Write a Python script to calculate the correlation coefficient between two datasets"
      ],
      "metadata": {
        "id": "3wxTFw2veRkq"
      }
    },
    {
      "cell_type": "code",
      "source": [
        "import numpy as np\n",
        "import pandas as pd\n",
        "from scipy.stats import pearsonr\n",
        "\n",
        "# Sample datasets\n",
        "data1 = [10, 15, 12, 18, 20, 22, 24, 30]\n",
        "data2 = [8, 12, 10, 20, 18, 25, 28, 35]\n",
        "\n",
        "# 1. Using NumPy\n",
        "correlation_numpy = np.corrcoef(data1, data2)[0, 1]\n",
        "print(f\"Correlation using NumPy: {correlation_numpy}\")\n",
        "\n",
        "# 2. Using Pandas\n",
        "df = pd.DataFrame({'Data1': data1, 'Data2': data2})\n",
        "correlation_pandas = df.corr().iloc[0, 1]\n",
        "print(f\"Correlation using Pandas: {correlation_pandas}\")\n",
        "\n",
        "# 3. Using SciPy\n",
        "correlation_scipy, _ = pearsonr(data1, data2)\n",
        "print(f\"Correlation using SciPy: {correlation_scipy}\")"
      ],
      "metadata": {
        "colab": {
          "base_uri": "https://localhost:8080/"
        },
        "id": "hVR7Pi32eUUi",
        "outputId": "dd19b74f-fe82-4a03-9578-41dd3f688c1e"
      },
      "execution_count": 6,
      "outputs": [
        {
          "output_type": "stream",
          "name": "stdout",
          "text": [
            "Correlation using NumPy: 0.9833590310602456\n",
            "Correlation using Pandas: 0.9833590310602457\n",
            "Correlation using SciPy: 0.9833590310602456\n"
          ]
        }
      ]
    },
    {
      "cell_type": "markdown",
      "source": [
        "11. Create a scatter plot to visualize the relationship between two variables"
      ],
      "metadata": {
        "id": "WB3jzzNqecwr"
      }
    },
    {
      "cell_type": "code",
      "source": [
        "import numpy as np\n",
        "import matplotlib.pyplot as plt\n",
        "import seaborn as sns\n",
        "\n",
        "# Sample data\n",
        "np.random.seed(0)\n",
        "x = np.random.randint(10, 50, 50)  # Random integers as X values\n",
        "y = 2 * x + np.random.normal(0, 10, 50)  # Linear relation with some noise\n",
        "\n",
        "# Plotting using Seaborn for enhanced visualization\n",
        "plt.figure(figsize=(10, 6))\n",
        "sns.scatterplot(x=x, y=y, color='blue', s=80, alpha=0.7, marker='o')\n",
        "plt.title(\"Scatter Plot: Relationship Between Two Variables\")\n",
        "plt.xlabel(\"Variable X\")\n",
        "plt.ylabel(\"Variable Y\")\n",
        "plt.grid(alpha=0.3)\n",
        "plt.axhline(np.mean(y), color='red', linestyle='dashed', linewidth=1, label=\"Mean Y\")\n",
        "plt.axvline(np.mean(x), color='green', linestyle='dashed', linewidth=1, label=\"Mean X\")\n",
        "plt.legend()\n",
        "plt.show()"
      ],
      "metadata": {
        "colab": {
          "base_uri": "https://localhost:8080/",
          "height": 573
        },
        "id": "nMQGidIFefww",
        "outputId": "717bedd1-b3b6-40fd-e029-fd7ad4df7dcc"
      },
      "execution_count": 7,
      "outputs": [
        {
          "output_type": "display_data",
          "data": {
            "text/plain": [
              "<Figure size 1000x600 with 1 Axes>"
            ],
            "image/png": "[encoded data removed]"
          },
          "metadata": {}
        }
      ]
    },
    {
      "cell_type": "markdown",
      "source": [
        "12.  Implement and compare simple random sampling and systematic sampling"
      ],
      "metadata": {
        "id": "4WKSMyFAessQ"
      }
    },
    {
      "cell_type": "code",
      "source": [
        "import numpy as np\n",
        "import pandas as pd\n",
        "\n",
        "# Generate a dataset\n",
        "np.random.seed(0)\n",
        "data = np.random.randint(1, 100, 100)  # 100 random integers between 1 and 100\n",
        "print(\"Original Dataset:\\n\", data)\n",
        "\n",
        "# Convert to a DataFrame for better visualization\n",
        "df = pd.DataFrame(data, columns=[\"Value\"])\n",
        "\n",
        "# ----------------------------\n",
        "# 1. Simple Random Sampling\n",
        "# ----------------------------\n",
        "sample_size = 10\n",
        "simple_random_sample = df.sample(n=sample_size, random_state=0)\n",
        "print(\"\\nSimple Random Sample:\\n\", simple_random_sample)\n",
        "\n",
        "# ----------------------------\n",
        "# 2. Systematic Sampling\n",
        "# ----------------------------\n",
        "# Calculate the sampling interval\n",
        "k = len(df) // sample_size\n",
        "systematic_sample_indices = np.arange(0, len(df), k)\n",
        "systematic_sample = df.iloc[systematic_sample_indices]\n",
        "print(\"\\nSystematic Sample:\\n\", systematic_sample)"
      ],
      "metadata": {
        "colab": {
          "base_uri": "https://localhost:8080/"
        },
        "id": "2LUwYXjuextF",
        "outputId": "410724ba-6219-4ebc-e495-a9428d0f081f"
      },
      "execution_count": 8,
      "outputs": [
        {
          "output_type": "stream",
          "name": "stdout",
          "text": [
            "Original Dataset:\n",
            " [45 48 65 68 68 10 84 22 37 88 71 89 89 13 59 66 40 88 47 89 82 38 26 78\n",
            " 73 10 21 81 70 80 48 65 83 89 50 30 20 20 15 40 33 66 10 58 33 32 75 24\n",
            " 36 76 56 29 35  1  1 37 54  6 39 18 80  5 43 59 32  2 66 42 58 36 12 47\n",
            " 83 92  1 15 54 13 43 85 76 69  7 69 48  4 77 53 79 16 21 59 24 80 14 86\n",
            " 49 50 70 42]\n",
            "\n",
            "Simple Random Sample:\n",
            "     Value\n",
            "26     21\n",
            "86     77\n",
            "2      65\n",
            "55     37\n",
            "75     15\n",
            "93     80\n",
            "16     40\n",
            "73     92\n",
            "54      1\n",
            "95     86\n",
            "\n",
            "Systematic Sample:\n",
            "     Value\n",
            "0      45\n",
            "10     71\n",
            "20     82\n",
            "30     48\n",
            "40     33\n",
            "50     56\n",
            "60     80\n",
            "70     12\n",
            "80     76\n",
            "90     21\n"
          ]
        }
      ]
    },
    {
      "cell_type": "markdown",
      "source": [
        "13. Calculate the mean, median, and mode of grouped data"
      ],
      "metadata": {
        "id": "Jjt0I3_Ze5wJ"
      }
    },
    {
      "cell_type": "code",
      "source": [
        "import numpy as np\n",
        "from scipy.stats import mode\n",
        "\n",
        "# Data\n",
        "class_intervals = [(10, 20), (20, 30), (30, 40), (40, 50), (50, 60)]\n",
        "frequency = [5, 8, 15, 10, 12]\n",
        "\n",
        "# Calculate midpoints\n",
        "midpoints = [(interval[0] + interval[1]) / 2 for interval in class_intervals]\n",
        "\n",
        "# Mean Calculation\n",
        "mean = sum([f * m for f, m in zip(frequency, midpoints)]) / sum(frequency)\n",
        "print(f\"Mean: {mean:.2f}\")\n",
        "\n",
        "# Cumulative Frequency\n",
        "cumulative_freq = np.cumsum(frequency)\n",
        "\n",
        "# Median Calculation\n",
        "N = sum(frequency)\n",
        "median_class_index = next(i for i, cf in enumerate(cumulative_freq) if cf >= N / 2)\n",
        "l = class_intervals[median_class_index][0]\n",
        "f = frequency[median_class_index]\n",
        "cf_prev = cumulative_freq[median_class_index - 1] if median_class_index != 0 else 0\n",
        "h = class_intervals[median_class_index][1] - class_intervals[median_class_index][0]\n",
        "\n",
        "# Median formula: L + [(N/2 - CF) / f] * h\n",
        "median = l + ((N / 2 - cf_prev) / f) * h\n",
        "print(f\"Median: {median:.2f}\")\n",
        "\n",
        "# Mode Calculation\n",
        "# Mode class is the class with the highest frequency\n",
        "mode_class_index = frequency.index(max(frequency))\n",
        "l_mode = class_intervals[mode_class_index][0]\n",
        "f1 = frequency[mode_class_index]\n",
        "f0 = frequency[mode_class_index - 1] if mode_class_index != 0 else 0\n",
        "f2 = frequency[mode_class_index + 1] if mode_class_index != len(frequency) - 1 else 0\n",
        "\n",
        "# Mode formula: L + [(f1 - f0) / (2f1 - f0 - f2)] * h\n",
        "mode_value = l_mode + ((f1 - f0) / (2 * f1 - f0 - f2)) * h\n",
        "print(f\"Mode: {mode_value:.2f}\")"
      ],
      "metadata": {
        "colab": {
          "base_uri": "https://localhost:8080/"
        },
        "id": "mSfSPoRFe8pj",
        "outputId": "9c030f05-3b84-45ad-e50c-70399af385f0"
      },
      "execution_count": 9,
      "outputs": [
        {
          "output_type": "stream",
          "name": "stdout",
          "text": [
            "Mean: 38.20\n",
            "Median: 38.00\n",
            "Mode: 35.83\n"
          ]
        }
      ]
    },
    {
      "cell_type": "markdown",
      "source": [
        "15. Use NumPy or pandas to summarize a dataset’s descriptive statistics"
      ],
      "metadata": {
        "id": "RfFx7RS0fMVB"
      }
    },
    {
      "cell_type": "code",
      "source": [
        "import numpy as np\n",
        "import pandas as pd\n",
        "from scipy.stats import mode\n",
        "\n",
        "# Sample Dataset\n",
        "np.random.seed(0)\n",
        "data = np.random.randint(10, 100, size=50)\n",
        "print(\"Dataset:\\n\", data)\n",
        "\n",
        "# Convert to DataFrame\n",
        "df = pd.DataFrame(data, columns=[\"Values\"])\n",
        "\n",
        "# -------------------------\n",
        "# Using Pandas\n",
        "# -------------------------\n",
        "print(\"\\nDescriptive Statistics using Pandas:\")\n",
        "print(df.describe())\n",
        "\n",
        "# Additional Metrics using Pandas\n",
        "print(\"\\nAdditional Metrics:\")\n",
        "print(f\"Mode: {df['Values'].mode()[0]}\")\n",
        "print(f\"Range: {df['Values'].max() - df['Values'].min()}\")\n",
        "\n",
        "# -------------------------\n",
        "# Using NumPy\n",
        "# -------------------------\n",
        "print(\"\\nDescriptive Statistics using NumPy:\")\n",
        "mean = np.mean(data)\n",
        "median = np.median(data)\n",
        "mode_value = mode(data, keepdims=True)[0][0]\n",
        "std_dev = np.std(data)\n",
        "variance = np.var(data)\n",
        "data_range = np.ptp(data)\n",
        "\n",
        "print(f\"Mean: {mean}\")\n",
        "print(f\"Median: {median}\")\n",
        "print(f\"Mode: {mode_value}\")\n",
        "print(f\"Standard Deviation: {std_dev}\")\n",
        "print(f\"Variance: {variance}\")\n",
        "print(f\"Range: {data_range}\")"
      ],
      "metadata": {
        "id": "c56B8itPfNCl"
      },
      "execution_count": null,
      "outputs": []
    },
    {
      "cell_type": "markdown",
      "source": [
        "16. Plot a boxplot to understand the spread and identify outliers"
      ],
      "metadata": {
        "id": "4Uz4x3lAfUNa"
      }
    },
    {
      "cell_type": "code",
      "source": [
        "import numpy as np\n",
        "import pandas as pd\n",
        "import matplotlib.pyplot as plt\n",
        "\n",
        "# Sample Dataset\n",
        "np.random.seed(0)\n",
        "data = np.random.randint(10, 100, size=50)\n",
        "df = pd.DataFrame(data, columns=[\"Values\"])\n",
        "\n",
        "# Create a Boxplot\n",
        "plt.figure(figsize=(8, 6))\n",
        "plt.boxplot(df[\"Values\"], vert=False)\n",
        "plt.title(\"Boxplot of Dataset\")\n",
        "plt.xlabel(\"Values\")\n",
        "plt.show()"
      ],
      "metadata": {
        "colab": {
          "base_uri": "https://localhost:8080/",
          "height": 573
        },
        "id": "H_5Jlb0gfYPx",
        "outputId": "d59ed241-1352-4e4f-b9a6-9d2d77036d2f"
      },
      "execution_count": 10,
      "outputs": [
        {
          "output_type": "display_data",
          "data": {
            "text/plain": [
              "<Figure size 800x600 with 1 Axes>"
            ],
            "image/png": "[encoded data removed]"
          },
          "metadata": {}
        }
      ]
    },
    {
      "cell_type": "markdown",
      "source": [
        "17. Calculate the interquartile range (IQR) of a dataset"
      ],
      "metadata": {
        "id": "BZtCIc-lfbx2"
      }
    },
    {
      "cell_type": "code",
      "source": [
        "import numpy as np\n",
        "\n",
        "# Sample Dataset\n",
        "np.random.seed(0)\n",
        "data = np.random.randint(10, 100, size=50)\n",
        "\n",
        "# Calculate Q1 and Q3 using NumPy\n",
        "Q1 = np.percentile(data, 25)  # 25th percentile\n",
        "Q3 = np.percentile(data, 75)  # 75th percentile\n",
        "\n",
        "# Calculate the Interquartile Range (IQR)\n",
        "IQR = Q3 - Q1\n",
        "print(f\"Interquartile Range (IQR): {IQR}\")"
      ],
      "metadata": {
        "colab": {
          "base_uri": "https://localhost:8080/"
        },
        "id": "9UyDsMo3fhRJ",
        "outputId": "53d02818-7ca0-4294-af78-7237cba65192"
      },
      "execution_count": 12,
      "outputs": [
        {
          "output_type": "stream",
          "name": "stdout",
          "text": [
            "Interquartile Range (IQR): 43.5\n"
          ]
        }
      ]
    },
    {
      "cell_type": "markdown",
      "source": [
        "18.  Implement Z-score normalization and explain its significance"
      ],
      "metadata": {
        "id": "y9ADxxr7fmt0"
      }
    },
    {
      "cell_type": "code",
      "source": [
        "import numpy as np\n",
        "import pandas as pd\n",
        "\n",
        "# Sample Dataset\n",
        "np.random.seed(0)\n",
        "data = np.random.randint(10, 100, size=50)\n",
        "\n",
        "# Convert to DataFrame\n",
        "df = pd.DataFrame(data, columns=[\"Values\"])\n",
        "\n",
        "# Z-Score Normalization\n",
        "mean = np.mean(data)\n",
        "std_dev = np.std(data)\n",
        "\n",
        "z_scores = (data - mean) / std_dev\n",
        "\n",
        "# Display the normalized data\n",
        "print(\"Original Data:\\n\", data[:10])  # Displaying first 10 for brevity\n",
        "print(\"\\nZ-Score Normalized Data:\\n\", z_scores[:10])  # Displaying first 10 for brevity"
      ],
      "metadata": {
        "colab": {
          "base_uri": "https://localhost:8080/"
        },
        "id": "zyAPteJHf_-N",
        "outputId": "0acc1305-353b-413a-cda2-2d1115f447af"
      },
      "execution_count": 13,
      "outputs": [
        {
          "output_type": "stream",
          "name": "stdout",
          "text": [
            "Original Data:\n",
            " [54 57 74 77 77 19 93 31 46 97]\n",
            "\n",
            "Z-Score Normalized Data:\n",
            " [-0.30985234 -0.19307382  0.46867113  0.58544966  0.58544966 -1.67226843\n",
            "  1.20826844 -1.20515435 -0.62126174  1.36397314]\n"
          ]
        }
      ]
    },
    {
      "cell_type": "markdown",
      "source": [
        "19. Compare two datasets using their standard deviations"
      ],
      "metadata": {
        "id": "CYZqNZqQgGhh"
      }
    },
    {
      "cell_type": "code",
      "source": [
        "import numpy as np\n",
        "\n",
        "# Sample Datasets\n",
        "np.random.seed(0)\n",
        "data1 = np.random.randint(10, 50, size=30)  # Dataset 1\n",
        "data2 = np.random.randint(50, 100, size=30)  # Dataset 2\n",
        "\n",
        "# Calculate the standard deviations\n",
        "std_dev_data1 = np.std(data1)\n",
        "std_dev_data2 = np.std(data2)\n",
        "\n",
        "# Print the results\n",
        "print(f\"Standard Deviation of Dataset 1: {std_dev_data1}\")\n",
        "print(f\"Standard Deviation of Dataset 2: {std_dev_data2}\")\n",
        "\n",
        "# Comparison\n",
        "if std_dev_data1 > std_dev_data2:\n",
        "    print(\"\\nDataset 1 has more spread (higher variability).\")\n",
        "elif std_dev_data1 < std_dev_data2:\n",
        "    print(\"\\nDataset 2 has more spread (higher variability).\")\n",
        "else:\n",
        "    print(\"\\nBoth datasets have equal spread.\")"
      ],
      "metadata": {
        "colab": {
          "base_uri": "https://localhost:8080/"
        },
        "id": "x7dNwgfXgL3p",
        "outputId": "04c16c9e-56a4-45a1-9510-dbd4f7d35336"
      },
      "execution_count": 14,
      "outputs": [
        {
          "output_type": "stream",
          "name": "stdout",
          "text": [
            "Standard Deviation of Dataset 1: 11.859407892283476\n",
            "Standard Deviation of Dataset 2: 14.059239745527572\n",
            "\n",
            "Dataset 2 has more spread (higher variability).\n"
          ]
        }
      ]
    },
    {
      "cell_type": "markdown",
      "source": [
        "20. Write a Python program to visualize covariance using a heatmap"
      ],
      "metadata": {
        "id": "bnzY7iKDgUBj"
      }
    },
    {
      "cell_type": "code",
      "source": [
        "import numpy as np\n",
        "import pandas as pd\n",
        "import seaborn as sns\n",
        "import matplotlib.pyplot as plt\n",
        "\n",
        "# Sample dataset\n",
        "np.random.seed(0)\n",
        "data = np.random.randn(100, 3)  # Generating random data for 3 variables\n",
        "df = pd.DataFrame(data, columns=[\"Variable 1\", \"Variable 2\", \"Variable 3\"])\n",
        "\n",
        "# Calculate the covariance matrix\n",
        "cov_matrix = np.cov(df.T)  # Transpose to get the covariance between columns\n",
        "\n",
        "# Plotting the heatmap\n",
        "plt.figure(figsize=(8, 6))\n",
        "sns.heatmap(cov_matrix, annot=True, cmap=\"coolwarm\", fmt=\".2f\",\n",
        "            xticklabels=df.columns, yticklabels=df.columns)\n",
        "\n",
        "# Add titles and labels\n",
        "plt.title(\"Covariance Matrix Heatmap\")\n",
        "plt.show()"
      ],
      "metadata": {
        "colab": {
          "base_uri": "https://localhost:8080/",
          "height": 549
        },
        "id": "F1zJIGDVgbe5",
        "outputId": "667089db-52fe-4e88-c666-9e125b49df0f"
      },
      "execution_count": 15,
      "outputs": [
        {
          "output_type": "display_data",
          "data": {
            "text/plain": [
              "<Figure size 800x600 with 2 Axes>"
            ],
            "image/png": "[encoded data removed]"
          },
          "metadata": {}
        }
      ]
    },
    {
      "cell_type": "markdown",
      "source": [
        "21. Use seaborn to create a correlation matrix for a dataset"
      ],
      "metadata": {
        "id": "icvph8-fgdOZ"
      }
    },
    {
      "cell_type": "code",
      "source": [
        "import numpy as np\n",
        "import pandas as pd\n",
        "import seaborn as sns\n",
        "import matplotlib.pyplot as plt\n",
        "\n",
        "# Sample dataset (using random data)\n",
        "np.random.seed(0)\n",
        "data = np.random.randn(100, 4)  # 4 variables, 100 data points\n",
        "df = pd.DataFrame(data, columns=[\"Variable 1\", \"Variable 2\", \"Variable 3\", \"Variable 4\"])\n",
        "\n",
        "# Calculate the correlation matrix\n",
        "corr_matrix = df.corr()\n",
        "\n",
        "# Create the heatmap\n",
        "plt.figure(figsize=(8, 6))\n",
        "sns.heatmap(corr_matrix, annot=True, cmap=\"coolwarm\", fmt=\".2f\",\n",
        "            xticklabels=df.columns, yticklabels=df.columns)\n",
        "\n",
        "# Add titles and labels\n",
        "plt.title(\"Correlation Matrix Heatmap\")\n",
        "plt.show()"
      ],
      "metadata": {
        "colab": {
          "base_uri": "https://localhost:8080/",
          "height": 549
        },
        "id": "0wwC6f4_ggvW",
        "outputId": "97d036d6-108b-42b0-c5cb-bebf267a0846"
      },
      "execution_count": 16,
      "outputs": [
        {
          "output_type": "display_data",
          "data": {
            "text/plain": [
              "<Figure size 800x600 with 2 Axes>"
            ],
            "image/png": "[encoded data removed]"
          },
          "metadata": {}
        }
      ]
    },
    {
      "cell_type": "markdown",
      "source": [
        "22. Generate a dataset and implement both variance and standard deviation computations"
      ],
      "metadata": {
        "id": "XMEPvwjsglNm"
      }
    },
    {
      "cell_type": "code",
      "source": [
        "import numpy as np\n",
        "\n",
        "# Generate a sample dataset\n",
        "np.random.seed(0)\n",
        "data = np.random.randint(10, 50, size=20)  # Random dataset of 20 integers between 10 and 50\n",
        "\n",
        "# Manual computation of variance\n",
        "mean_data = np.mean(data)\n",
        "variance_manual = np.sum((data - mean_data) ** 2) / len(data)\n",
        "\n",
        "# Manual computation of standard deviation (square root of variance)\n",
        "std_dev_manual = np.sqrt(variance_manual)\n",
        "\n",
        "# Variance and standard deviation using numpy\n",
        "variance_numpy = np.var(data)\n",
        "std_dev_numpy = np.std(data)\n",
        "\n",
        "# Print results\n",
        "print(f\"Dataset: {data}\")\n",
        "print(f\"\\nManual Variance: {variance_manual}\")\n",
        "print(f\"Manual Standard Deviation: {std_dev_manual}\")\n",
        "print(f\"\\nVariance using numpy: {variance_numpy}\")\n",
        "print(f\"Standard Deviation using numpy: {std_dev_numpy}\")"
      ],
      "metadata": {
        "colab": {
          "base_uri": "https://localhost:8080/"
        },
        "id": "x5Uhndvxgtc-",
        "outputId": "6f25c268-08f6-4069-aaaa-b551df94959b"
      },
      "execution_count": 17,
      "outputs": [
        {
          "output_type": "stream",
          "name": "stdout",
          "text": [
            "Dataset: [10 13 13 49 19 29 31 46 33 16 34 34 22 11 48 49 33 34 27 47]\n",
            "\n",
            "Manual Variance: 169.38999999999996\n",
            "Manual Standard Deviation: 13.014991356124673\n",
            "\n",
            "Variance using numpy: 169.38999999999996\n",
            "Standard Deviation using numpy: 13.014991356124673\n"
          ]
        }
      ]
    },
    {
      "cell_type": "markdown",
      "source": [
        "23. Visualize skewness and kurtosis using Python libraries like matplotlib or seaborn"
      ],
      "metadata": {
        "id": "zQUA01Swgvdl"
      }
    },
    {
      "cell_type": "code",
      "source": [
        "import numpy as np\n",
        "import pandas as pd\n",
        "import seaborn as sns\n",
        "import matplotlib.pyplot as plt\n",
        "from scipy.stats import skew, kurtosis\n",
        "\n",
        "# Generate a sample dataset\n",
        "np.random.seed(0)\n",
        "data = np.random.gamma(shape=2, scale=2, size=1000)  # A positively skewed distribution\n",
        "\n",
        "# Calculate skewness and kurtosis\n",
        "data_skewness = skew(data)\n",
        "data_kurtosis = kurtosis(data)\n",
        "\n",
        "# Plot the histogram to visualize the distribution\n",
        "plt.figure(figsize=(10, 6))\n",
        "sns.histplot(data, kde=True, color='blue', bins=30)\n",
        "plt.title(f\"Histogram with Skewness: {data_skewness:.2f}, Kurtosis: {data_kurtosis:.2f}\")\n",
        "plt.xlabel('Value')\n",
        "plt.ylabel('Frequency')\n",
        "\n",
        "# Show the plot\n",
        "plt.show()\n",
        "\n",
        "# Print skewness and kurtosis values\n",
        "print(f\"Skewness: {data_skewness}\")\n",
        "print(f\"Kurtosis: {data_kurtosis}\")"
      ],
      "metadata": {
        "colab": {
          "base_uri": "https://localhost:8080/",
          "height": 609
        },
        "id": "yPky7BWQgyAj",
        "outputId": "3f842d5d-6a64-4708-93b7-1be1639be778"
      },
      "execution_count": 18,
      "outputs": [
        {
          "output_type": "display_data",
          "data": {
            "text/plain": [
              "<Figure size 1000x600 with 1 Axes>"
            ],
            "image/png": "[encoded data removed]"
          },
          "metadata": {}
        },
        {
          "output_type": "stream",
          "name": "stdout",
          "text": [
            "Skewness: 1.358332294792333\n",
            "Kurtosis: 2.4079180806130145\n"
          ]
        }
      ]
    },
    {
      "cell_type": "markdown",
      "source": [
        "24. Implement the Pearson and Spearman correlation coefficients for a dataset."
      ],
      "metadata": {
        "id": "3E1m-GoJg5Hj"
      }
    },
    {
      "cell_type": "code",
      "source": [
        "import numpy as np\n",
        "import pandas as pd\n",
        "from scipy.stats import pearsonr, spearmanr\n",
        "\n",
        "# Generate two related variables (example data)\n",
        "np.random.seed(0)\n",
        "x = np.random.randn(100)  # Independent variable\n",
        "y = 2 * x + np.random.randn(100) * 0.5  # Dependent variable with added noise\n",
        "\n",
        "# Calculate Pearson correlation coefficient\n",
        "pearson_corr, _ = pearsonr(x, y)\n",
        "\n",
        "# Calculate Spearman correlation coefficient\n",
        "spearman_corr, _ = spearmanr(x, y)\n",
        "\n",
        "# Print the results\n",
        "print(f\"Pearson Correlation: {pearson_corr}\")\n",
        "print(f\"Spearman Correlation: {spearman_corr}\")"
      ],
      "metadata": {
        "colab": {
          "base_uri": "https://localhost:8080/"
        },
        "id": "3nI6l3dvg9Iy",
        "outputId": "cef0f932-1de3-4e69-a7e8-d3b06ff39f08"
      },
      "execution_count": 19,
      "outputs": [
        {
          "output_type": "stream",
          "name": "stdout",
          "text": [
            "Pearson Correlation: 0.970613932389049\n",
            "Spearman Correlation: 0.9578397839783978\n"
          ]
        }
      ]
    }
  ]
}